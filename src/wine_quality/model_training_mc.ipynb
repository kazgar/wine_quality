{
 "cells": [
  {
   "cell_type": "code",
   "execution_count": null,
   "id": "0",
   "metadata": {},
   "outputs": [],
   "source": [
    "import polars as pl\n",
    "import xgboost\n",
    "from calc_metrics import calculate_basic_metrics\n",
    "from setup.constants import PROJECT_ROOT\n",
    "from sklearn.ensemble import AdaBoostClassifier, GradientBoostingClassifier\n",
    "from sklearn.model_selection import GridSearchCV, train_test_split\n",
    "from sklearn.tree import DecisionTreeClassifier\n",
    "from xgboost import XGBClassifier"
   ]
  },
  {
   "cell_type": "code",
   "execution_count": null,
   "id": "1",
   "metadata": {},
   "outputs": [],
   "source": [
    "# Create schema for csv reading\n",
    "wine_schema = {\n",
    "    \"free sulfur dioxide\": pl.Float64,\n",
    "    \"total sulfur dioxide\": pl.Float64,\n",
    "    \"quality\": pl.Float64,\n",
    "}"
   ]
  },
  {
   "cell_type": "code",
   "execution_count": null,
   "id": "2",
   "metadata": {},
   "outputs": [],
   "source": [
    "# Split red wine data into training and test\n",
    "DATA_PATH = PROJECT_ROOT / \"data\"\n",
    "red_wine_data = pl.read_csv(\n",
    "    DATA_PATH / \"winequality-red.csv\", separator=\";\", schema_overrides=wine_schema\n",
    ")\n",
    "r_X = red_wine_data.drop(pl.col(\"quality\"))\n",
    "r_y = red_wine_data.get_column(\"quality\")\n",
    "r_X_train, r_X_test, r_y_train, r_y_test = train_test_split(\n",
    "    r_X, r_y, train_size=0.8, test_size=0.2, stratify=r_y\n",
    ")\n",
    "print(len(r_X_train), len(r_y_train), len(r_X_test), len(r_y_test))"
   ]
  },
  {
   "cell_type": "code",
   "execution_count": null,
   "id": "3",
   "metadata": {},
   "outputs": [],
   "source": [
    "# Split white wine data into training and test\n",
    "white_wine_data = pl.read_csv(\n",
    "    DATA_PATH / \"winequality-white.csv\", separator=\";\", schema_overrides=wine_schema\n",
    ")\n",
    "w_X = white_wine_data.drop(pl.col(\"quality\"))\n",
    "w_y = white_wine_data.get_column(\"quality\")\n",
    "w_X_train, w_X_test, w_y_train, w_y_test = train_test_split(\n",
    "    w_X, w_y, train_size=0.8, test_size=0.2, stratify=w_y\n",
    ")\n",
    "print(len(w_X_train), len(w_y_train), len(w_X_test), len(w_y_test))"
   ]
  },
  {
   "cell_type": "code",
   "execution_count": null,
   "id": "4",
   "metadata": {},
   "outputs": [],
   "source": [
    "results = []  # <- For storing the results before concating the df\n",
    "# Create a df to store the results of the models\n",
    "results_df = pl.DataFrame(\n",
    "    schema={\n",
    "        \"model\": pl.String,\n",
    "        \"dataset\": pl.String,\n",
    "        \"accuracy\": pl.Float64,\n",
    "        \"precision\": pl.Float64,\n",
    "        \"recall\": pl.Float64,\n",
    "        \"f1\": pl.Float64,\n",
    "        \"balanced_accuracy\": pl.Float64,\n",
    "        \"overall_test_set_performance\": pl.Float64,\n",
    "    }\n",
    ")"
   ]
  },
  {
   "cell_type": "code",
   "execution_count": null,
   "id": "5",
   "metadata": {},
   "outputs": [],
   "source": [
    "# Create a parameter grid for AdaBoost\n",
    "ab_param_grid = {\n",
    "    \"n_estimators\": [10, 25, 50, 100],\n",
    "    \"learning_rate\": [0.001, 0.01, 0.1, 1],\n",
    "}\n",
    "\n",
    "# Create a base AB model to run grid search on\n",
    "ab_model = AdaBoostClassifier(estimator=DecisionTreeClassifier())"
   ]
  },
  {
   "cell_type": "code",
   "execution_count": null,
   "id": "6",
   "metadata": {},
   "outputs": [],
   "source": [
    "# Train the AB model for red wine\n",
    "r_ab_model = (\n",
    "    GridSearchCV(\n",
    "        estimator=ab_model, param_grid=ab_param_grid, scoring=\"balanced_accuracy\", refit=True\n",
    "    )\n",
    "    .fit(r_X_train, r_y_train)\n",
    "    .best_estimator_\n",
    ")\n",
    "\n",
    "# Calculate statistics for red wine AB model\n",
    "r_ab_model_stats = calculate_basic_metrics(\n",
    "    estimator=r_ab_model,\n",
    "    X=r_X_test,\n",
    "    y=r_y_test,\n",
    "    dataset=\"red_wine\",\n",
    "    model_name=\"AdaBoostClassifier\",\n",
    ")\n",
    "print(r_ab_model_stats)\n",
    "results.append(r_ab_model_stats)"
   ]
  },
  {
   "cell_type": "code",
   "execution_count": null,
   "id": "7",
   "metadata": {},
   "outputs": [],
   "source": [
    "# Train the AB model for white wine\n",
    "w_ab_model = (\n",
    "    GridSearchCV(\n",
    "        estimator=ab_model, param_grid=ab_param_grid, scoring=\"balanced_accuracy\", refit=True, cv=3\n",
    "    )\n",
    "    .fit(w_X_train, w_y_train)\n",
    "    .best_estimator_\n",
    ")\n",
    "\n",
    "# Calculate statistics for white wine AB model\n",
    "w_ab_model_stats = calculate_basic_metrics(\n",
    "    estimator=w_ab_model,\n",
    "    X=w_X_test,\n",
    "    y=w_y_test,\n",
    "    dataset=\"white_wine\",\n",
    "    model_name=\"AdaBoostClassifier\",\n",
    ")\n",
    "print(w_ab_model_stats)\n",
    "results.append(w_ab_model_stats)"
   ]
  },
  {
   "cell_type": "code",
   "execution_count": null,
   "id": "8",
   "metadata": {},
   "outputs": [],
   "source": [
    "# Create a parameter grid for GradientBoost\n",
    "gb_param_grid = {\n",
    "    \"learning_rate\": [0.001, 0.01, 0.1, 1],\n",
    "    \"n_estimators\": [10, 25, 50],\n",
    "    \"criterion\": [\"friedman_mse\", \"squared_error\"],\n",
    "    \"min_samples_leaf\": [1, 2],\n",
    "    \"max_depth\": [1, 3],\n",
    "    \"max_features\": [None],\n",
    "}\n",
    "\n",
    "# Create a base GB model to run grid search on\n",
    "gb_model = GradientBoostingClassifier()"
   ]
  },
  {
   "cell_type": "code",
   "execution_count": null,
   "id": "9",
   "metadata": {},
   "outputs": [],
   "source": [
    "# Train the GB model for red wine\n",
    "r_gb_model = (\n",
    "    GridSearchCV(\n",
    "        estimator=gb_model,\n",
    "        param_grid=gb_param_grid,\n",
    "        scoring=\"balanced_accuracy\",\n",
    "        refit=True,\n",
    "        cv=3,\n",
    "        n_jobs=-1,\n",
    "    )\n",
    "    .fit(r_X_train, r_y_train)\n",
    "    .best_estimator_\n",
    ")\n",
    "\n",
    "# Calculate statistics for red wine GB model\n",
    "r_gb_model_stats = calculate_basic_metrics(\n",
    "    estimator=r_gb_model,\n",
    "    X=r_X_test,\n",
    "    y=r_y_test,\n",
    "    dataset=\"red_wine\",\n",
    "    model_name=\"GradientBoostingClassifier\",\n",
    ")\n",
    "results.append(r_gb_model_stats)\n",
    "print(r_gb_model_stats)"
   ]
  },
  {
   "cell_type": "code",
   "execution_count": null,
   "id": "10",
   "metadata": {},
   "outputs": [],
   "source": [
    "# Train the GB model for white wine\n",
    "w_gb_model = (\n",
    "    GridSearchCV(\n",
    "        estimator=gb_model,\n",
    "        param_grid=gb_param_grid,\n",
    "        scoring=\"balanced_accuracy\",\n",
    "        refit=True,\n",
    "        cv=3,\n",
    "        n_jobs=-1,\n",
    "    )\n",
    "    .fit(w_X_train, w_y_train)\n",
    "    .best_estimator_\n",
    ")\n",
    "\n",
    "# Calculate statistics for white wine GB model\n",
    "w_gb_model_stats = calculate_basic_metrics(\n",
    "    estimator=w_gb_model,\n",
    "    X=w_X_test,\n",
    "    y=w_y_test,\n",
    "    dataset=\"white_wine\",\n",
    "    model_name=\"GradientBoostingClassifier\",\n",
    ")\n",
    "results.append(w_gb_model_stats)\n",
    "print(w_gb_model_stats)"
   ]
  },
  {
   "cell_type": "code",
   "execution_count": null,
   "id": "11",
   "metadata": {},
   "outputs": [],
   "source": [
    "xgboost.config_context(use_rmm=True)"
   ]
  },
  {
   "cell_type": "code",
   "execution_count": null,
   "id": "12",
   "metadata": {},
   "outputs": [],
   "source": [
    "# Create a parameter grid for XGBoost\n",
    "xgb_param_grid = {\n",
    "    \"learning_rate\": [0.1, 0.3, 0.5],\n",
    "    \"gamma\": [0, 1],\n",
    "    \"max_depth\": [3, 6, 12],\n",
    "    \"lambda\": [0, 1],\n",
    "    \"max_leaves\": [0, 6],\n",
    "}\n",
    "\n",
    "# Create a base XGBoost model to run grid search on\n",
    "xgb_model = XGBClassifier(\n",
    "    booster=\"gbtree\",\n",
    "    device=\"gpu\",\n",
    ")"
   ]
  },
  {
   "cell_type": "code",
   "execution_count": null,
   "id": "13",
   "metadata": {},
   "outputs": [],
   "source": [
    "# Train the XGBoost model for red wine\n",
    "r_xgb_model = (\n",
    "    GridSearchCV(\n",
    "        estimator=xgb_model,\n",
    "        param_grid=xgb_param_grid,\n",
    "        scoring=\"balanced_accuracy\",\n",
    "        refit=True,\n",
    "        cv=3,\n",
    "        n_jobs=-1,\n",
    "    )\n",
    "    .fit(r_X_train, r_y_train)\n",
    "    .best_estimator_\n",
    ")\n",
    "\n",
    "# Calculate statistics for red wine XGBoost model\n",
    "r_xgb_model_stats = calculate_basic_metrics(\n",
    "    estimator=r_xgb_model, X=r_X_test, y=r_y_test, dataset=\"red_wine\", model_name=\"XGBoost\"\n",
    ")\n",
    "results.append(r_xgb_model_stats)"
   ]
  }
 ],
 "metadata": {
  "kernelspec": {
   "display_name": "wine-quality",
   "language": "python",
   "name": "python3"
  },
  "language_info": {
   "codemirror_mode": {
    "name": "ipython",
    "version": 3
   },
   "file_extension": ".py",
   "mimetype": "text/x-python",
   "name": "python",
   "nbconvert_exporter": "python",
   "pygments_lexer": "ipython3",
   "version": "3.12.9"
  }
 },
 "nbformat": 4,
 "nbformat_minor": 5
}
