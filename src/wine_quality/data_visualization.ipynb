{
 "cells": [
  {
   "cell_type": "code",
   "execution_count": null,
   "id": "0",
   "metadata": {},
   "outputs": [],
   "source": [
    "from pathlib import Path\n",
    "\n",
    "import matplotlib.pyplot as plt\n",
    "import numpy as np\n",
    "import polars as pl\n",
    "import seaborn as sns\n",
    "from setup.constants import PROJECT_ROOT"
   ]
  },
  {
   "cell_type": "code",
   "execution_count": null,
   "id": "1",
   "metadata": {},
   "outputs": [],
   "source": [
    "wine_schema = {\n",
    "    \"free sulfur dioxide\": pl.Float64,\n",
    "    \"total sulfur dioxide\": pl.Float64,\n",
    "    \"quality\": pl.Float64,\n",
    "}\n",
    "\n",
    "red_wine_df = pl.read_csv(\n",
    "    PROJECT_ROOT / \"data\" / \"winequality-red.csv\", separator=\";\", schema_overrides=wine_schema\n",
    ")\n",
    "print(red_wine_df.head(5))\n",
    "\n",
    "white_wine_df = pl.read_csv(\n",
    "    PROJECT_ROOT / \"data\" / \"winequality-white.csv\", separator=\";\", schema_overrides=wine_schema\n",
    ")\n",
    "print(white_wine_df.head(5))"
   ]
  },
  {
   "cell_type": "code",
   "execution_count": null,
   "id": "2",
   "metadata": {},
   "outputs": [],
   "source": [
    "print(red_wine_df.null_count() == 0)\n",
    "print(white_wine_df.null_count() == 0)"
   ]
  },
  {
   "cell_type": "code",
   "execution_count": null,
   "id": "3",
   "metadata": {},
   "outputs": [],
   "source": [
    "red_wine_df.describe()"
   ]
  },
  {
   "cell_type": "code",
   "execution_count": null,
   "id": "4",
   "metadata": {},
   "outputs": [],
   "source": [
    "white_wine_df.describe()"
   ]
  },
  {
   "cell_type": "code",
   "execution_count": null,
   "id": "5",
   "metadata": {},
   "outputs": [],
   "source": [
    "print(\n",
    "    red_wine_df.group_by(pl.col(\"quality\")).agg(pl.len()).sort(pl.col(\"quality\"), descending=True)\n",
    ")"
   ]
  },
  {
   "cell_type": "code",
   "execution_count": null,
   "id": "6",
   "metadata": {},
   "outputs": [],
   "source": [
    "red_wine_df_qc = red_wine_df.with_columns(\n",
    "    pl.when(pl.col(\"quality\") >= 7)\n",
    "    .then(pl.lit(\"good\"))\n",
    "    .when(pl.col(\"quality\") >= 5)\n",
    "    .then(pl.lit(\"average\"))\n",
    "    .otherwise(pl.lit(\"bad\"))\n",
    "    .alias(\"quality category\")\n",
    ")\n",
    "\n",
    "print(\n",
    "    red_wine_df_qc.group_by(\n",
    "        pl.col(\"quality category\"),\n",
    "    )\n",
    "    .agg(pl.len().alias(\"# of samples\"))\n",
    "    .sort(pl.col(\"# of samples\"), descending=True)\n",
    ")"
   ]
  },
  {
   "cell_type": "code",
   "execution_count": null,
   "id": "7",
   "metadata": {},
   "outputs": [],
   "source": [
    "print(\n",
    "    white_wine_df.group_by(pl.col(\"quality\")).agg(pl.len()).sort(pl.col(\"quality\"), descending=True)\n",
    ")"
   ]
  },
  {
   "cell_type": "code",
   "execution_count": null,
   "id": "8",
   "metadata": {},
   "outputs": [],
   "source": [
    "white_wine_df_qc = white_wine_df.with_columns(\n",
    "    pl.when(pl.col(\"quality\") >= 7)\n",
    "    .then(pl.lit(\"good\"))\n",
    "    .when(pl.col(\"quality\") >= 5)\n",
    "    .then(pl.lit(\"average\"))\n",
    "    .otherwise(pl.lit(\"bad\"))\n",
    "    .alias(\"quality category\")\n",
    ")\n",
    "print(\n",
    "    white_wine_df_qc.group_by(pl.col(\"quality category\"))\n",
    "    .agg(pl.len().alias(\"# of samples\"))\n",
    "    .sort(pl.col(\"# of samples\"), descending=True)\n",
    ")"
   ]
  },
  {
   "cell_type": "code",
   "execution_count": null,
   "id": "9",
   "metadata": {},
   "outputs": [],
   "source": [
    "import os\n",
    "\n",
    "for color in [\"white\", \"red\"]:\n",
    "    if not os.path.isdir(PROJECT_ROOT / \"figures\" / color):\n",
    "        os.makedirs(PROJECT_ROOT / \"figures\" / color)"
   ]
  },
  {
   "cell_type": "code",
   "execution_count": null,
   "id": "10",
   "metadata": {},
   "outputs": [],
   "source": [
    "columns = [col for col in red_wine_df.columns if col != \"target\"]\n",
    "agg_exprs = [pl.col(col).mean().alias(f\"{col}_mean\") for col in columns]\n",
    "\n",
    "red_wine_means_df = (\n",
    "    red_wine_df_qc.group_by(pl.col(\"quality category\"))\n",
    "    .agg(agg_exprs)\n",
    "    .sort(pl.col(\"quality_mean\"), descending=True)\n",
    ")\n",
    "red_wine_means_df"
   ]
  },
  {
   "cell_type": "code",
   "execution_count": null,
   "id": "11",
   "metadata": {},
   "outputs": [],
   "source": [
    "white_wine_means_df = (\n",
    "    white_wine_df_qc.group_by(\"quality category\")\n",
    "    .agg(agg_exprs)\n",
    "    .sort(pl.col(\"quality_mean\"), descending=True)\n",
    ")\n",
    "white_wine_means_df"
   ]
  },
  {
   "cell_type": "code",
   "execution_count": null,
   "id": "12",
   "metadata": {},
   "outputs": [],
   "source": [
    "red_wine_corr = red_wine_df.corr()\n",
    "plt.figure(figsize=(14, 12))\n",
    "heatmap = sns.heatmap(\n",
    "    red_wine_corr,\n",
    "    annot=True,\n",
    "    linewidths=0,\n",
    "    vmin=-1,\n",
    "    cmap=\"RdBu_r\",\n",
    "    xticklabels=red_wine_df.columns,\n",
    "    yticklabels=red_wine_df.columns,\n",
    ")\n",
    "plt.title(\"Red Wine Correlation Matrix\")\n",
    "plt.savefig(PROJECT_ROOT / \"figures\" / \"red\" / \"correlation_matrix\")"
   ]
  },
  {
   "cell_type": "code",
   "execution_count": null,
   "id": "13",
   "metadata": {},
   "outputs": [],
   "source": [
    "def make_scatter_hist(df: pl.DataFrame, x: str, y: str, filename: Path, title: str) -> None:\n",
    "    plt.figure()\n",
    "    gridA = (\n",
    "        sns.JointGrid(x=x, y=y, data=df)\n",
    "        .plot_joint(sns.regplot, scatter_kws={\"s\": 10})\n",
    "        .plot_marginals(sns.histplot)\n",
    "    )\n",
    "    plt.title(title)\n",
    "    gridA.savefig(filename)"
   ]
  },
  {
   "cell_type": "code",
   "execution_count": null,
   "id": "14",
   "metadata": {},
   "outputs": [],
   "source": [
    "make_scatter_hist(\n",
    "    df=red_wine_df[[\"fixed acidity\", \"pH\"]],\n",
    "    x=\"fixed acidity\",\n",
    "    y=\"pH\",\n",
    "    filename=PROJECT_ROOT / \"figures\" / \"red\" / \"fixedAcidity_pH\",\n",
    "    title=\"Red Wine - pH vs. Fixed Acidity\",\n",
    ")"
   ]
  },
  {
   "cell_type": "code",
   "execution_count": null,
   "id": "15",
   "metadata": {},
   "outputs": [],
   "source": [
    "make_scatter_hist(\n",
    "    df=red_wine_df[[\"fixed acidity\", \"citric acid\"]],\n",
    "    x=\"fixed acidity\",\n",
    "    y=\"citric acid\",\n",
    "    filename=PROJECT_ROOT / \"figures\" / \"red\" / \"fixedAcidity_citricAcid\",\n",
    "    title=\"Red Wine - Citric Acid vs. Fixed Acidity\",\n",
    ")"
   ]
  },
  {
   "cell_type": "code",
   "execution_count": null,
   "id": "16",
   "metadata": {},
   "outputs": [],
   "source": [
    "make_scatter_hist(\n",
    "    df=red_wine_df[[\"fixed acidity\", \"density\"]],\n",
    "    x=\"fixed acidity\",\n",
    "    y=\"density\",\n",
    "    filename=PROJECT_ROOT / \"figures\" / \"red\" / \"fixedAcidity_density\",\n",
    "    title=\"Red Wine - Density vs. Fixed Acidity\",\n",
    ")"
   ]
  },
  {
   "cell_type": "code",
   "execution_count": null,
   "id": "17",
   "metadata": {},
   "outputs": [],
   "source": [
    "white_wine_corr = white_wine_df.corr()\n",
    "plt.figure(figsize=(14, 12))\n",
    "heatmap = sns.heatmap(\n",
    "    white_wine_corr,\n",
    "    annot=True,\n",
    "    linewidths=0,\n",
    "    vmin=-1,\n",
    "    cmap=\"RdBu_r\",\n",
    "    xticklabels=white_wine_df.columns,\n",
    "    yticklabels=white_wine_df.columns,\n",
    ")\n",
    "plt.title(\"White Wine Correlation Matrix\")\n",
    "plt.savefig(PROJECT_ROOT / \"figures\" / \"white\" / \"correlation_matrix\")"
   ]
  },
  {
   "cell_type": "code",
   "execution_count": null,
   "id": "18",
   "metadata": {},
   "outputs": [],
   "source": [
    "make_scatter_hist(\n",
    "    df=white_wine_df[[\"density\", \"residual sugar\"]],\n",
    "    x=\"density\",\n",
    "    y=\"residual sugar\",\n",
    "    filename=PROJECT_ROOT / \"figures\" / \"white\" / \"density_residualSugar\",\n",
    "    title=\"White Wine - Residual Sugar vs. Density\",\n",
    ")"
   ]
  },
  {
   "cell_type": "code",
   "execution_count": null,
   "id": "19",
   "metadata": {},
   "outputs": [],
   "source": [
    "make_scatter_hist(\n",
    "    df=red_wine_df[[\"density\", \"alcohol\"]],\n",
    "    x=\"density\",\n",
    "    y=\"alcohol\",\n",
    "    filename=PROJECT_ROOT / \"figures\" / \"white\" / \"density_alcohol\",\n",
    "    title=\"White Wine - Alcohol vs. Density\",\n",
    ")"
   ]
  },
  {
   "cell_type": "code",
   "execution_count": null,
   "id": "20",
   "metadata": {},
   "outputs": [],
   "source": [
    "red_va_by_quality = (\n",
    "    red_wine_df.group_by(pl.col(\"quality\"))\n",
    "    .agg(pl.col(\"volatile acidity\").mean().name.suffix(\" mean\"))\n",
    "    .sort(pl.col(\"quality\"), descending=True)\n",
    ")\n",
    "print(red_va_by_quality)\n",
    "\n",
    "white_va_by_quality = (\n",
    "    white_wine_df.group_by(pl.col(\"quality\"))\n",
    "    .agg(pl.col(\"volatile acidity\").mean().name.suffix(\" mean\"))\n",
    "    .sort(pl.col(\"quality\"), descending=True)\n",
    ")\n",
    "print(white_va_by_quality)"
   ]
  },
  {
   "cell_type": "code",
   "execution_count": null,
   "id": "21",
   "metadata": {},
   "outputs": [],
   "source": [
    "colors = {\n",
    "    np.float64(3.0): \"#FF9800\",\n",
    "    np.float64(4.0): \"#FFC107\",\n",
    "    np.float64(5.0): \"#FFEB3B\",\n",
    "    np.float64(6.0): \"#DCE775\",\n",
    "    np.float64(7.0): \"#AEEA00\",\n",
    "    np.float64(8.0): \"#64DD17\",\n",
    "    np.float64(9.0): \"#00C853\",\n",
    "}\n",
    "\n",
    "\n",
    "def make_barplot(\n",
    "    df: pl.DataFrame,\n",
    "    x: str,\n",
    "    y: str,\n",
    "    title: str,\n",
    "    filename: Path,\n",
    "    hue: str = \"quality\",\n",
    "    palette: dict = colors,\n",
    ") -> None:\n",
    "    plt.figure(figsize=((12, 6)))\n",
    "    sns.barplot(data=df, x=x, y=y, hue=hue, palette=palette)\n",
    "    plt.title(title)\n",
    "    plt.savefig(filename)"
   ]
  },
  {
   "cell_type": "code",
   "execution_count": null,
   "id": "22",
   "metadata": {},
   "outputs": [],
   "source": [
    "make_barplot(\n",
    "    df=red_va_by_quality,\n",
    "    x=\"quality\",\n",
    "    y=\"volatile acidity mean\",\n",
    "    title=\"Red Wine - Volatile Acidity Mean by Quality\",\n",
    "    filename=PROJECT_ROOT / \"figures\" / \"red\" / \"volatile_acid_mean_quality\",\n",
    ")"
   ]
  },
  {
   "cell_type": "code",
   "execution_count": null,
   "id": "23",
   "metadata": {},
   "outputs": [],
   "source": [
    "make_barplot(\n",
    "    df=white_va_by_quality,\n",
    "    x=\"quality\",\n",
    "    y=\"volatile acidity mean\",\n",
    "    title=\"White Wine - Volatile Acidity Mean by Quality\",\n",
    "    filename=PROJECT_ROOT / \"figures\" / \"white\" / \"volatile_acid_mean_quality\",\n",
    ")"
   ]
  },
  {
   "cell_type": "code",
   "execution_count": null,
   "id": "24",
   "metadata": {},
   "outputs": [],
   "source": [
    "red_alc_by_quality = (\n",
    "    red_wine_df.group_by(pl.col(\"quality\"))\n",
    "    .agg(pl.col(\"alcohol\").mean().name.suffix(\" mean\"))\n",
    "    .sort(pl.col(\"quality\"), descending=True)\n",
    ")\n",
    "print(red_alc_by_quality)\n",
    "\n",
    "white_alc_by_quality = (\n",
    "    white_wine_df.group_by(pl.col(\"quality\"))\n",
    "    .agg(pl.col(\"alcohol\").mean().name.suffix(\" mean\"))\n",
    "    .sort(pl.col(\"quality\"), descending=True)\n",
    ")\n",
    "print(white_alc_by_quality)"
   ]
  },
  {
   "cell_type": "code",
   "execution_count": null,
   "id": "25",
   "metadata": {},
   "outputs": [],
   "source": [
    "make_barplot(\n",
    "    df=red_alc_by_quality,\n",
    "    x=\"quality\",\n",
    "    y=\"alcohol mean\",\n",
    "    title=\"Red Wine - Alcohol Mean by Quality\",\n",
    "    filename=PROJECT_ROOT / \"figures\" / \"red\" / \"alcohol_quality\",\n",
    ")"
   ]
  },
  {
   "cell_type": "code",
   "execution_count": null,
   "id": "26",
   "metadata": {},
   "outputs": [],
   "source": [
    "make_barplot(\n",
    "    df=white_alc_by_quality,\n",
    "    x=\"quality\",\n",
    "    y=\"alcohol mean\",\n",
    "    title=\"White Wine - Alcohol Mean by Quality\",\n",
    "    filename=PROJECT_ROOT / \"figures\" / \"white\" / \"alcohol_quality\",\n",
    ")"
   ]
  },
  {
   "cell_type": "code",
   "execution_count": null,
   "id": "27",
   "metadata": {},
   "outputs": [],
   "source": [
    "red_sul_by_quality = (\n",
    "    red_wine_df.group_by(pl.col(\"quality\"))\n",
    "    .agg(pl.col(\"sulphates\").mean().name.suffix(\" mean\"))\n",
    "    .sort(pl.col(\"quality\"), descending=True)\n",
    ")\n",
    "print(red_sul_by_quality)"
   ]
  },
  {
   "cell_type": "code",
   "execution_count": null,
   "id": "28",
   "metadata": {},
   "outputs": [],
   "source": [
    "make_barplot(\n",
    "    df=red_sul_by_quality,\n",
    "    x=\"quality\",\n",
    "    y=\"sulphates mean\",\n",
    "    title=\"Red Wine - Sulphates Mean by Quality\",\n",
    "    filename=PROJECT_ROOT / \"figures\" / \"red\" / \"sulphates_quality\",\n",
    ")"
   ]
  },
  {
   "cell_type": "code",
   "execution_count": null,
   "id": "29",
   "metadata": {},
   "outputs": [],
   "source": [
    "white_chlor_by_quality = (\n",
    "    white_wine_df.group_by(pl.col(\"quality\"))\n",
    "    .agg(pl.col(\"chlorides\").mean().name.suffix(\" mean\"))\n",
    "    .sort(pl.col(\"quality\"), descending=True)\n",
    ")\n",
    "print(white_chlor_by_quality)"
   ]
  },
  {
   "cell_type": "code",
   "execution_count": null,
   "id": "30",
   "metadata": {},
   "outputs": [],
   "source": [
    "make_barplot(\n",
    "    df=white_chlor_by_quality,\n",
    "    x=\"quality\",\n",
    "    y=\"chlorides mean\",\n",
    "    title=\"White Wine - Chlorides Mean by Quality\",\n",
    "    filename=PROJECT_ROOT / \"figures\" / \"white\" / \"chlorides_quality\",\n",
    ")"
   ]
  }
 ],
 "metadata": {
  "kernelspec": {
   "display_name": "wine-quality",
   "language": "python",
   "name": "python3"
  },
  "language_info": {
   "codemirror_mode": {
    "name": "ipython",
    "version": 3
   },
   "file_extension": ".py",
   "mimetype": "text/x-python",
   "name": "python",
   "nbconvert_exporter": "python",
   "pygments_lexer": "ipython3",
   "version": "3.12.9"
  }
 },
 "nbformat": 4,
 "nbformat_minor": 5
}
